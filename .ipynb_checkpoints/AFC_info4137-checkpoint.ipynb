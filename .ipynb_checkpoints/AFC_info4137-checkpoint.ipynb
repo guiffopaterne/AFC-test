{
 "cells": [
  {
   "cell_type": "code",
   "execution_count": 1,
   "id": "75060d73",
   "metadata": {},
   "outputs": [],
   "source": [
    "import numpy as np\n",
    "import pandas as pd\n",
    "import matplotlib.pyplot as plt\n",
    "from matplotlib.pyplot import plot"
   ]
  },
  {
   "cell_type": "code",
   "execution_count": 2,
   "id": "1af039a1",
   "metadata": {},
   "outputs": [],
   "source": [
    "df = pd.read_csv('JO.csv',sep=\";\", header=0,index_col=0)\n",
    "# df = df.select_dtypes(exclude=['object'])"
   ]
  },
  {
   "cell_type": "code",
   "execution_count": 3,
   "id": "c869db7e",
   "metadata": {},
   "outputs": [],
   "source": [
    "X = df.to_numpy()"
   ]
  },
  {
   "cell_type": "code",
   "execution_count": 4,
   "id": "4b8cce58",
   "metadata": {},
   "outputs": [
    {
     "data": {
      "text/plain": [
       "array([0.        , 0.00277778, 0.00277778, 0.        , 0.        ,\n",
       "       0.        , 0.        , 0.        , 0.        , 0.        ,\n",
       "       0.00277778, 0.        , 0.        , 0.        , 0.        ,\n",
       "       0.        , 0.        , 0.        , 0.        , 0.        ,\n",
       "       0.        , 0.        , 0.00555556, 0.        , 0.        ,\n",
       "       0.        , 0.        , 0.00555556, 0.        , 0.        ,\n",
       "       0.        , 0.        , 0.        , 0.        , 0.        ,\n",
       "       0.        , 0.        , 0.        , 0.00555556, 0.        ,\n",
       "       0.        , 0.        , 0.        , 0.        , 0.        ,\n",
       "       0.        , 0.        , 0.00277778, 0.        , 0.        ,\n",
       "       0.        , 0.        , 0.        , 0.        , 0.        ,\n",
       "       0.        , 0.01388889, 0.        ])"
      ]
     },
     "execution_count": 4,
     "metadata": {},
     "output_type": "execute_result"
    }
   ],
   "source": [
    "freq = X/np.sum(X)\n",
    "freq[10,:]"
   ]
  },
  {
   "cell_type": "code",
   "execution_count": 5,
   "id": "e402a495",
   "metadata": {},
   "outputs": [],
   "source": [
    "Fi = np.sum(freq,axis=0)\n",
    "Fj = np.sum(freq,axis=1)"
   ]
  },
  {
   "cell_type": "code",
   "execution_count": 6,
   "id": "6c69f465",
   "metadata": {},
   "outputs": [
    {
     "ename": "ImportError",
     "evalue": "cannot import name 'plot' from partially initialized module 'AFC' (most likely due to a circular import) (/Users/gwp/Desktop/master1/4137-nzekon/afc/AFC/__init__.py)",
     "output_type": "error",
     "traceback": [
      "\u001b[0;31m---------------------------------------------------------------------------\u001b[0m",
      "\u001b[0;31mImportError\u001b[0m                               Traceback (most recent call last)",
      "\u001b[0;32m<ipython-input-6-e225ca9f53ad>\u001b[0m in \u001b[0;36m<module>\u001b[0;34m\u001b[0m\n\u001b[0;32m----> 1\u001b[0;31m \u001b[0;32mfrom\u001b[0m \u001b[0mAFC\u001b[0m\u001b[0;34m.\u001b[0m\u001b[0mafc\u001b[0m \u001b[0;32mimport\u001b[0m \u001b[0mAFC\u001b[0m\u001b[0;34m\u001b[0m\u001b[0;34m\u001b[0m\u001b[0m\n\u001b[0m",
      "\u001b[0;32m~/Desktop/master1/4137-nzekon/afc/AFC/__init__.py\u001b[0m in \u001b[0;36m<module>\u001b[0;34m\u001b[0m\n\u001b[0;32m----> 1\u001b[0;31m \u001b[0;32mfrom\u001b[0m \u001b[0;34m.\u001b[0m\u001b[0mafc\u001b[0m \u001b[0;32mimport\u001b[0m \u001b[0mAFC\u001b[0m\u001b[0;34m\u001b[0m\u001b[0;34m\u001b[0m\u001b[0m\n\u001b[0m",
      "\u001b[0;32m~/Desktop/master1/4137-nzekon/afc/AFC/afc.py\u001b[0m in \u001b[0;36m<module>\u001b[0;34m\u001b[0m\n\u001b[1;32m      7\u001b[0m \u001b[0;32mfrom\u001b[0m \u001b[0msklearn\u001b[0m \u001b[0;32mimport\u001b[0m \u001b[0mutils\u001b[0m\u001b[0;34m\u001b[0m\u001b[0;34m\u001b[0m\u001b[0m\n\u001b[1;32m      8\u001b[0m \u001b[0;34m\u001b[0m\u001b[0m\n\u001b[0;32m----> 9\u001b[0;31m \u001b[0;32mfrom\u001b[0m \u001b[0;34m.\u001b[0m \u001b[0;32mimport\u001b[0m \u001b[0mplot\u001b[0m\u001b[0;34m\u001b[0m\u001b[0;34m\u001b[0m\u001b[0m\n\u001b[0m\u001b[1;32m     10\u001b[0m \u001b[0;32mfrom\u001b[0m \u001b[0;34m.\u001b[0m \u001b[0;32mimport\u001b[0m \u001b[0mutil\u001b[0m\u001b[0;34m\u001b[0m\u001b[0;34m\u001b[0m\u001b[0m\n\u001b[1;32m     11\u001b[0m \u001b[0;32mfrom\u001b[0m \u001b[0;34m.\u001b[0m \u001b[0;32mimport\u001b[0m \u001b[0msvd\u001b[0m\u001b[0;34m\u001b[0m\u001b[0;34m\u001b[0m\u001b[0m\n",
      "\u001b[0;31mImportError\u001b[0m: cannot import name 'plot' from partially initialized module 'AFC' (most likely due to a circular import) (/Users/gwp/Desktop/master1/4137-nzekon/afc/AFC/__init__.py)"
     ]
    }
   ],
   "source": [
    "from AFC.afc import AFC"
   ]
  },
  {
   "cell_type": "code",
   "execution_count": null,
   "id": "827bc42e",
   "metadata": {},
   "outputs": [],
   "source": [
    "afc = AFC( n_components=4)\n",
    "afc.fit(df)"
   ]
  },
  {
   "cell_type": "code",
   "execution_count": null,
   "id": "fefef820",
   "metadata": {},
   "outputs": [],
   "source": []
  },
  {
   "cell_type": "code",
   "execution_count": null,
   "id": "87cd72d3",
   "metadata": {},
   "outputs": [],
   "source": [
    "# les valeurs propres\n",
    "afc.eigenvalues_"
   ]
  },
  {
   "cell_type": "code",
   "execution_count": null,
   "id": "7ed36e9c",
   "metadata": {},
   "outputs": [],
   "source": [
    "# les vecteurs propres\n",
    "afc.explained_inertia_"
   ]
  },
  {
   "cell_type": "code",
   "execution_count": null,
   "id": "86139de0",
   "metadata": {},
   "outputs": [],
   "source": [
    "print('U')\n",
    "print(afc.U_)\n"
   ]
  },
  {
   "cell_type": "code",
   "execution_count": null,
   "id": "de8e32ef",
   "metadata": {},
   "outputs": [],
   "source": [
    "\n",
    "print('V')\n",
    "print(afc.V_)\n"
   ]
  },
  {
   "cell_type": "code",
   "execution_count": null,
   "id": "67861148",
   "metadata": {},
   "outputs": [],
   "source": [
    "\n",
    "print('s')\n",
    "print(afc.s_)\n"
   ]
  },
  {
   "cell_type": "code",
   "execution_count": null,
   "id": "dae984d5",
   "metadata": {},
   "outputs": [],
   "source": [
    "print('Row coords')\n",
    "print(afc.row_coordinates(df))"
   ]
  },
  {
   "cell_type": "code",
   "execution_count": null,
   "id": "fb924367",
   "metadata": {},
   "outputs": [],
   "source": [
    "afc.plot_coordinates(df,figsize=(10,10))"
   ]
  },
  {
   "cell_type": "code",
   "execution_count": null,
   "id": "29311788",
   "metadata": {},
   "outputs": [],
   "source": [
    "contribution_row=afc.row_contributions()*100\n",
    "print(contribution_row)\n",
    "contribution_row.sum(axis=0)"
   ]
  },
  {
   "cell_type": "code",
   "execution_count": null,
   "id": "86d88b24",
   "metadata": {},
   "outputs": [],
   "source": [
    "contribution_colunm = afc.column_contributions()*100\n",
    "print(contribution_colunm)\n",
    "contribution_colunm.sum(axis=0)"
   ]
  }
 ],
 "metadata": {
  "kernelspec": {
   "display_name": "Python 3",
   "language": "python",
   "name": "python3"
  },
  "language_info": {
   "codemirror_mode": {
    "name": "ipython",
    "version": 3
   },
   "file_extension": ".py",
   "mimetype": "text/x-python",
   "name": "python",
   "nbconvert_exporter": "python",
   "pygments_lexer": "ipython3",
   "version": "3.8.8"
  }
 },
 "nbformat": 4,
 "nbformat_minor": 5
}
